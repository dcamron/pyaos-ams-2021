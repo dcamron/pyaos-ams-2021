{
 "cells": [
  {
   "cell_type": "markdown",
   "metadata": {},
   "source": [
    "<a name=\"top\"></a>\n",
    "<div style=\"width:1000 px\">\n",
    "\n",
    "<div style=\"float:right; width:98 px; height:98px;\">\n",
    "<img src=\"https://raw.githubusercontent.com/Unidata/MetPy/master/src/metpy/plots/_static/unidata_150x150.png\" alt=\"Unidata Logo\" style=\"height: 98px;\">\n",
    "</div>\n",
    "\n",
    "<h1>Working with Jupyter Widgets</h1>\n",
    "<h3>Unidata AMS 2021 Student Conference</h3>\n",
    "\n",
    "<div style=\"clear:both\"></div>\n",
    "</div>\n",
    "\n",
    "---\n",
    "\n",
    "In this notebook, we'll explore several interactive [Jupyter Widgets](https://ipywidgets.readthedocs.io/en/stable/user_guide.html) and use them to incorporate user input to make dynamic, customizable plots.\n",
    "<div style=\"float:right; width:100 px\"><img src=\"../../instructors/images/widgets_preview.png\" alt=\"example of customizable plot with widgets\" style=\"height: 250px;\"></div>\n",
    "\n",
    "\n",
    "### Focuses\n",
    "* Discover various widgets and their uses\n",
    "* Use widgets to create dynamic visualizations\n",
    "* Incorporate user input in plots\n",
    "* Use interact to create real-time responsive visualizations\n",
    "\n",
    "\n",
    "### Objectives\n",
    "1. [Create a slider widget](#1.-Create-a-slider-widget)\n",
    "1. [Use slider output to create a dynamic plot](#2.-Use-slider-output-to-create-a-dynamic-plot)\n",
    "1. [Incorporate user input for customizable plots](#3.-Incorporate-user-input-for-customizable-plots)\n",
    "1. [Putting it all together](#4.-Putting-it-all-together)\n",
    "---"
   ]
  },
  {
   "cell_type": "markdown",
   "metadata": {},
   "source": [
    "Before beginning, let's import the packages to be used throughout this training:"
   ]
  },
  {
   "cell_type": "code",
   "execution_count": null,
   "metadata": {},
   "outputs": [],
   "source": [
    "import matplotlib.pyplot as plt\n",
    "import numpy as np\n",
    "import ipywidgets as widgets"
   ]
  },
  {
   "cell_type": "markdown",
   "metadata": {},
   "source": [
    "## 1. Create a slider widget\n"
   ]
  },
  {
   "cell_type": "markdown",
   "metadata": {},
   "source": [
    "For our first widget, we'll create a slider for integers 1 to 10."
   ]
  },
  {
   "cell_type": "code",
   "execution_count": null,
   "metadata": {
    "scrolled": true
   },
   "outputs": [],
   "source": [
    "widgets.IntSlider(\n",
    "    value=5,\n",
    "    min = 1,\n",
    "    max = 10,\n",
    "    step = 1,\n",
    "    description = 'n'\n",
    ")"
   ]
  },
  {
   "cell_type": "markdown",
   "metadata": {},
   "source": [
    "Try moving the slide button around. We now have a working slider!  \n",
    "Notice that we passed several key-value pairs to the widget to set the start value, min value, max value, increment (step), and label (description)."
   ]
  },
  {
   "cell_type": "markdown",
   "metadata": {},
   "source": [
    "We can also create a slider for different numeric types, such as floats."
   ]
  },
  {
   "cell_type": "code",
   "execution_count": null,
   "metadata": {},
   "outputs": [],
   "source": [
    "widgets.FloatSlider(\n",
    "    value=4.2,\n",
    "    min = 1,\n",
    "    max = 10,\n",
    "    step = 0.1,\n",
    "    description = 'n',\n",
    "    orientation='vertical',\n",
    "    readout_format='.1f'\n",
    ")"
   ]
  },
  {
   "cell_type": "markdown",
   "metadata": {},
   "source": [
    "*Note:* In this slider, we have changed some key-value pairs (value and step) and added two more to set the orientation and format."
   ]
  },
  {
   "cell_type": "markdown",
   "metadata": {},
   "source": [
    "<a href=\"#top\">Top</a>\n",
    "\n",
    "---"
   ]
  },
  {
   "cell_type": "markdown",
   "metadata": {},
   "source": [
    "## 2. Use slider output to create a dynamic plot\n",
    "\n",
    "In the section above, we created a slider widget, but nothing happens when we move it. In this section, we'll learn how to incorporate the slider value in a plot."
   ]
  },
  {
   "cell_type": "markdown",
   "metadata": {},
   "source": [
    "Let's start by saving the slider as a variable and displaying it."
   ]
  },
  {
   "cell_type": "code",
   "execution_count": null,
   "metadata": {},
   "outputs": [],
   "source": [
    "widget = widgets.IntRangeSlider(\n",
    "    value=[5,10],\n",
    "    min = 1,\n",
    "    max = 20,\n",
    "    step = 1,\n",
    "    description = 'n'\n",
    ")\n",
    "display(widget)"
   ]
  },
  {
   "cell_type": "markdown",
   "metadata": {},
   "source": [
    "We have now created a handle for the widget so that we can access its properties.   \n",
    "*Note:* We have changed our `IntSlider` to an `IntRangeSlider`, which has a tuple value.\n",
    "Try moving the slider ends and then executing the cell below."
   ]
  },
  {
   "cell_type": "code",
   "execution_count": null,
   "metadata": {},
   "outputs": [],
   "source": [
    "widget.value"
   ]
  },
  {
   "cell_type": "markdown",
   "metadata": {},
   "source": [
    "Now let's use our slider to create a dynamic plot! We'll start by creating some data:"
   ]
  },
  {
   "cell_type": "code",
   "execution_count": null,
   "metadata": {},
   "outputs": [],
   "source": [
    "data = np.random.rand(20) # create an array of 20 random values\n",
    "data"
   ]
  },
  {
   "cell_type": "markdown",
   "metadata": {},
   "source": [
    "Next we'll make a simple plot of the data elements with indices within the slider range."
   ]
  },
  {
   "cell_type": "code",
   "execution_count": null,
   "metadata": {
    "scrolled": true
   },
   "outputs": [],
   "source": [
    "n = widget.value # save the widget value as a variable\n",
    "plt.plot(np.arange(n[0], n[1])[:], data[n[0]:n[1]], 'bo', markersize=5); # plot first n elements"
   ]
  },
  {
   "cell_type": "markdown",
   "metadata": {},
   "source": [
    "Try moving the slider and re-executing the cell above. The plot should update to reflect the new value."
   ]
  },
  {
   "cell_type": "markdown",
   "metadata": {},
   "source": [
    "### Update automatically\n",
    "That's cool, but what if we don't want to re-run the cell to see updates?   \n",
    "We can make the plot update automatically using [`interact`](https://ipywidgets.readthedocs.io/en/stable/examples/Using%20Interact.html)."
   ]
  },
  {
   "cell_type": "markdown",
   "metadata": {},
   "source": [
    "First, we wrap our plot in a function, `f`."
   ]
  },
  {
   "cell_type": "code",
   "execution_count": null,
   "metadata": {},
   "outputs": [],
   "source": [
    "def f(n, data):\n",
    "    plt.plot(np.arange(n[0],n[1])[:], data[n[0]:n[1]], 'bo', markersize=5);"
   ]
  },
  {
   "cell_type": "markdown",
   "metadata": {},
   "source": [
    "Next, we create our slider widget using `widgets.interact`."
   ]
  },
  {
   "cell_type": "code",
   "execution_count": null,
   "metadata": {},
   "outputs": [],
   "source": [
    "widgets.interact(f, n=widgets.IntRangeSlider(value=[5,10],\n",
    "    min = 1,\n",
    "    max = 20,\n",
    "    step = 1,\n",
    "    description = 'n'), data=widgets.fixed(data));"
   ]
  },
  {
   "cell_type": "markdown",
   "metadata": {},
   "source": [
    "The first parameter is the function that will be called when the slider value changes (`f` in this case).  \n",
    "The next two parameters are the arguments passed to the function `f`: our slider widget and our data array.  \n",
    "*Note:* We used the `widgets.fixed` keyword to indicate that `data` is a constant, rather than a value produced by a widget."
   ]
  },
  {
   "cell_type": "markdown",
   "metadata": {},
   "source": [
    "<a href=\"#top\">Top</a>\n",
    "\n",
    "---"
   ]
  },
  {
   "cell_type": "markdown",
   "metadata": {},
   "source": [
    "## 3. Incorporate user input for customizable plots\n",
    "Wigets can be used to let users provide input to visualizations.  In this section, we'll add several widgets to customize our plot."
   ]
  },
  {
   "cell_type": "markdown",
   "metadata": {},
   "source": [
    "### Select a variable from a dropdown"
   ]
  },
  {
   "cell_type": "markdown",
   "metadata": {},
   "source": [
    "One use for widgets is to allow the Notebook user to choose from serveral variables to display. Let's create three variables: `x`, `y`, and `z`."
   ]
  },
  {
   "cell_type": "code",
   "execution_count": null,
   "metadata": {},
   "outputs": [],
   "source": [
    "x = np.arange(20) # array of ints, 0-19\n",
    "y = np.flip(x) # array of ints, 19-0\n",
    "z = np.random.rand(20) # array of 20 random values\n",
    "var = [x, y, z] # save our three variables in a single array\n",
    "var"
   ]
  },
  {
   "cell_type": "markdown",
   "metadata": {},
   "source": [
    "Now we'll make a dropdown menu to choose between our three variables."
   ]
  },
  {
   "cell_type": "code",
   "execution_count": null,
   "metadata": {},
   "outputs": [],
   "source": [
    "widget = widgets.Dropdown(\n",
    "    options=[('x', 0), ('y', 1), ('z', 2)],\n",
    "    value=0,\n",
    "    description = 'Variable:'\n",
    ")"
   ]
  },
  {
   "cell_type": "markdown",
   "metadata": {},
   "source": [
    "*Note:* The options we have listed are an array of tuples; the first tuple value is the option name and the second value is what is returned when the option is selected. The numeric return value will help us find the chosen variable in our `var` array."
   ]
  },
  {
   "cell_type": "markdown",
   "metadata": {},
   "source": [
    "Finally, we make a plot which displays the variable selected in our dropdown."
   ]
  },
  {
   "cell_type": "code",
   "execution_count": null,
   "metadata": {},
   "outputs": [],
   "source": [
    "def f(selected, var):\n",
    "    plt.plot(np.arange(20)[:], var[selected][:], 'bo', markersize=5); # plot selected variable\n",
    "    \n",
    "widgets.interact(f, selected=widget, var=widgets.fixed(var)); # pass dropdown value as selected and var as fixed"
   ]
  },
  {
   "cell_type": "markdown",
   "metadata": {},
   "source": [
    "### Select a variable from radio buttons\n",
    "We can achieve the same function as above using radio buttons."
   ]
  },
  {
   "cell_type": "code",
   "execution_count": null,
   "metadata": {},
   "outputs": [],
   "source": [
    "widget = widgets.RadioButtons(\n",
    "    options=[('x', 0), ('y', 1), ('z', 2)],\n",
    "    value=0,\n",
    "    description = 'Variable:'\n",
    ")"
   ]
  },
  {
   "cell_type": "code",
   "execution_count": null,
   "metadata": {},
   "outputs": [],
   "source": [
    "def f(selected, var):\n",
    "    plt.plot(np.arange(20)[:], var[selected][:], 'bo', markersize=5); # plot selected variable\n",
    "\n",
    "widgets.interact(f, selected=widget, var=widgets.fixed(var)); # pass radio value as selected and var as fixed  "
   ]
  },
  {
   "cell_type": "markdown",
   "metadata": {},
   "source": [
    "### Customize display\n",
    "We can also use widgets to customize features in our plot, such as color, marker size and shape, etc."
   ]
  },
  {
   "cell_type": "markdown",
   "metadata": {},
   "source": [
    "Let's first create a plot with a color picker."
   ]
  },
  {
   "cell_type": "code",
   "execution_count": null,
   "metadata": {},
   "outputs": [],
   "source": [
    "widget = widgets.ColorPicker(\n",
    "    description='Marker color',\n",
    "    value ='blue'\n",
    ")"
   ]
  },
  {
   "cell_type": "code",
   "execution_count": null,
   "metadata": {},
   "outputs": [],
   "source": [
    "def f(c):\n",
    "    plt.plot(np.arange(20)[:], np.random.rand(20), 'o', markerfacecolor=c, markersize=5); # plot with chosien markerfacecolor\n",
    "\n",
    "widgets.interact(f, c=widget); # pass color from color picker"
   ]
  },
  {
   "cell_type": "markdown",
   "metadata": {},
   "source": [
    "Next, we'll make make a toggle button to turn on and off the connecting line."
   ]
  },
  {
   "cell_type": "code",
   "execution_count": null,
   "metadata": {},
   "outputs": [],
   "source": [
    "widget = widgets.ToggleButton(\n",
    "    value=False,\n",
    "    description='Show line'\n",
    ")"
   ]
  },
  {
   "cell_type": "code",
   "execution_count": null,
   "metadata": {},
   "outputs": [],
   "source": [
    "def f(val):\n",
    "    marker = 'bo-' if val else 'bo' # set marker to include line only in toggle button is on (True)\n",
    "    plt.plot(np.arange(20)[:], np.random.rand(20), marker, markersize=5);\n",
    "    \n",
    "widgets.interact(f, val=widget); # pass on/off"
   ]
  },
  {
   "cell_type": "markdown",
   "metadata": {},
   "source": [
    "<a href=\"#top\">Top</a>\n",
    "\n",
    "---"
   ]
  },
  {
   "cell_type": "markdown",
   "metadata": {},
   "source": [
    "## 4. Putting it all together\n",
    "Finally, let's create a dynamic plot which incorporates all of the widgets we've just used."
   ]
  },
  {
   "cell_type": "code",
   "execution_count": null,
   "metadata": {},
   "outputs": [],
   "source": [
    "# slider\n",
    "slider = widgets.IntRangeSlider(\n",
    "    value=[5,10],\n",
    "    min = 1,\n",
    "    max = 20,\n",
    "    step = 1,\n",
    "    description = 'n'\n",
    ")\n",
    "\n",
    "# radio buttons\n",
    "radio = widgets.RadioButtons(\n",
    "    options=[('x', 0), ('y', 1), ('z', 2)],\n",
    "    value=0,\n",
    "    description = 'Variable:'\n",
    ")\n",
    "\n",
    "# color picker\n",
    "color = widgets.ColorPicker(\n",
    "    description='Marker color',\n",
    "    value ='blue'\n",
    ")\n",
    "\n",
    "# toggle\n",
    "toggle = widgets.ToggleButton(\n",
    "    value=False,\n",
    "    description='Show line'\n",
    ")"
   ]
  },
  {
   "cell_type": "code",
   "execution_count": null,
   "metadata": {},
   "outputs": [],
   "source": [
    "n = slider.value # select number to plot\n",
    "selected = radio.value # get chosen variable\n",
    "c = color.value # set marker face color\n",
    "\n",
    "# plot selections function\n",
    "def f(n, selected, c, val, var):\n",
    "    marker = 'o-' if val else 'o' # toggle line on/off accroding to val\n",
    "    plt.plot(np.arange(n[0],n[1])[:], var[selected][n[0]:n[1]], marker, markerfacecolor=c, markersize=5);\n",
    "    \n",
    "# pass all widget values and fixed var\n",
    "widgets.interact(f, n=slider, selected=radio, c=color, val=toggle, var=widgets.fixed(var));"
   ]
  },
  {
   "cell_type": "markdown",
   "metadata": {},
   "source": [
    "<a href=\"#top\">Top</a>\n",
    "\n",
    "---"
   ]
  },
  {
   "cell_type": "markdown",
   "metadata": {},
   "source": [
    "## Going further\n",
    "In this notebook, we've covered just a few uses of Jupyter Widgets. Some other uses include:\n",
    "* [Animations](https://ipywidgets.readthedocs.io/en/stable/examples/Widget%20List.html#Play-(Animation)-widget)\n",
    "* [Layouts](https://ipywidgets.readthedocs.io/en/stable/examples/Widget%20List.html#Container/Layout-widgets)\n",
    "* [File uploads](https://ipywidgets.readthedocs.io/en/stable/examples/Widget%20List.html#File-Upload)\n",
    "* [Embedding images](https://ipywidgets.readthedocs.io/en/stable/examples/Widget%20List.html#Image)\n",
    "\n",
    "Try using different widgets to make scripts that are dynamic and interactive!"
   ]
  },
  {
   "cell_type": "markdown",
   "metadata": {},
   "source": [
    "<a href=\"#top\">Top</a>\n",
    "\n",
    "---"
   ]
  },
  {
   "cell_type": "markdown",
   "metadata": {},
   "source": [
    "## See also\n",
    "\n",
    "To read more about Jupyter Widgets, see the [documentation](https://ipywidgets.readthedocs.io/en/stable/user_guide.html)\n",
    "\n",
    "For a complete list of widget types, see [here](https://ipywidgets.readthedocs.io/en/stable/examples/Widget%20List.html).\n"
   ]
  },
  {
   "cell_type": "markdown",
   "metadata": {},
   "source": [
    "<a href=\"#top\">Top</a>\n",
    "\n",
    "---"
   ]
  }
 ],
 "metadata": {
  "kernelspec": {
   "display_name": "Python [conda env:pyaos-ams-2021]",
   "language": "python",
   "name": "conda-env-pyaos-ams-2021-py"
  },
  "language_info": {
   "codemirror_mode": {
    "name": "ipython",
    "version": 3
   },
   "file_extension": ".py",
   "mimetype": "text/x-python",
   "name": "python",
   "nbconvert_exporter": "python",
   "pygments_lexer": "ipython3",
   "version": "3.9.1"
  }
 },
 "nbformat": 4,
 "nbformat_minor": 4
}

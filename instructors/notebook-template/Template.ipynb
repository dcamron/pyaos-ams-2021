{
 "cells": [
  {
   "cell_type": "markdown",
   "metadata": {},
   "source": [
    "<a name=\"top\"></a>\n",
    "<div style=\"width:1000 px\">\n",
    "\n",
    "<div style=\"float:right; width:98 px; height:98px;\">\n",
    "<img src=\"https://raw.githubusercontent.com/Unidata/MetPy/master/src/metpy/plots/_static/unidata_150x150.png\" alt=\"Unidata Logo\" style=\"height: 98px;\">\n",
    "</div>\n",
    "\n",
    "# YOUR NOTEBOOK TITLE\n",
    "### Unidata AMS 2021 Student Conference\n",
    "\n",
    "<div style=\"clear:both\"></div>\n",
    "</div>\n",
    "\n",
    "---\n",
    "\n",
    "Along with your notebook, be sure to commit a small example output image from your code and link to it HERE (in the source), or link to an external image (logo, etc.) via URL. Remove this line after! Provide a brief `alt` text as well to benefit those with image display issues or potentially making use of screen readers.\n",
    "<div style=\"float:right; width:250 px\"><img src=\"../../_static/images/Template_preview.png\" alt=\"sin(x) with few data points\" style=\"height: 300px;\"></div>\n",
    "\n",
    "\n",
    "### Focuses\n",
    "* Use this section to \"tag\" the key interactions with your notebook, restate in plain language your notebooks overall goal\n",
    "* Supplement with brief description of the skills/tools that will be highlighted or smaller objectives that will be completed\n",
    "* Generate numbers for function inputs with [NumPy](https://numpy.org/doc/stable/)\n",
    "* Calculate $y = f(x) = sin(x)$ with [NumPy](https://numpy.org/doc/stable/) (don't forget math text!)\n",
    "* Demonstrate visualizing this with [Matplotlib](https://matplotlib.org/)\n",
    "\n",
    "\n",
    "### Objectives\n",
    "1. Here list and link to your individual sections you design below for each of your supporting learning objectives.\n",
    "1. You can create a simple list `1., 1., 1.,` that will automatically number as you see to the left, then link to your section headers with `[text for link to display](#any-heading-from-below-with-spaces-replaced-by-hyphens)`\n",
    "1. [Your first objective](#1.-Your-first-objective)\n",
    "1. [Objective number two](#2.-Objective-number-two)\n",
    "1. [Here's #3](#3.-Objective,-the-third)\n",
    "1. [Final reminders and instructions for instructors](#Final-reminders)\n",
    "\n",
    "---"
   ]
  },
  {
   "cell_type": "markdown",
   "metadata": {},
   "source": [
    "### Imports\n",
    "We will begin by importing the important packages to be used throughout! Instructors, generally keep your imports to before your objectives unless there is an important takeaway from what you're importing or the way you're doing it. Give a brief description if necessary in more introductory notebooks."
   ]
  },
  {
   "cell_type": "code",
   "execution_count": null,
   "metadata": {},
   "outputs": [],
   "source": [
    "import matplotlib.pyplot as plt\n",
    "import numpy as np"
   ]
  },
  {
   "cell_type": "markdown",
   "metadata": {},
   "source": [
    "---"
   ]
  },
  {
   "cell_type": "markdown",
   "metadata": {},
   "source": [
    "## 1. Your first objective\n"
   ]
  },
  {
   "cell_type": "markdown",
   "metadata": {},
   "source": [
    "Begin your learning narrative here with your first individual learning objective. Be sure to use markdown cells to guide your notebook, and explain your larger and more complicated objectives in plain language as necessary. Keep code comments to a minimum, but include them if they clearly help explain a quick decision or syntax quirk. Of course, if you find yourself needing more and more and more markdown as you go, you may need to trim down or split up your notebook!"
   ]
  },
  {
   "cell_type": "code",
   "execution_count": null,
   "metadata": {},
   "outputs": [],
   "source": []
  },
  {
   "cell_type": "markdown",
   "metadata": {},
   "source": [
    "**NOTICE** copy this cell (after removing this text from source) to include at the end of any new sections you illustrate for a clear visual break and offer a path to the start of the notebook. You can use the markdown `---` separator to clearly separate your sections.\n",
    "\n",
    "<a href=\"#top\">Top</a>\n",
    "\n",
    "---"
   ]
  },
  {
   "cell_type": "markdown",
   "metadata": {},
   "source": [
    "## 2. Objective number two\n",
    "\n",
    "Continue into your next objective, again defined by what unique piece of information you want your student to take away, or what pieces of code you want them to be able to take advantage of."
   ]
  },
  {
   "cell_type": "code",
   "execution_count": null,
   "metadata": {},
   "outputs": [],
   "source": [
    "x = np.linspace(0, 2*np.pi, 5)\n",
    "x"
   ]
  },
  {
   "cell_type": "code",
   "execution_count": null,
   "metadata": {},
   "outputs": [],
   "source": [
    "y = np.sin(x)\n",
    "y"
   ]
  },
  {
   "cell_type": "markdown",
   "metadata": {},
   "source": [
    "### Don't forget, in markdown cells\n",
    "#### you have access to\n",
    "##### further subsection headings\n",
    "\n",
    "to help break up the organization of your sections as necessary. Don't let them get too long, however!"
   ]
  },
  {
   "cell_type": "code",
   "execution_count": null,
   "metadata": {},
   "outputs": [],
   "source": [
    "labels = [f'{val / np.pi} $\\pi$' for val in x]\n",
    "\n",
    "plt.plot(x, y)\n",
    "plt.scatter(x, y)\n",
    "plt.xticks(x, labels);"
   ]
  },
  {
   "cell_type": "markdown",
   "metadata": {},
   "source": [
    "<a href=\"#top\">Top</a>\n",
    "\n",
    "---"
   ]
  },
  {
   "cell_type": "markdown",
   "metadata": {},
   "source": [
    "## 3. Objective, the third\n"
   ]
  },
  {
   "cell_type": "code",
   "execution_count": null,
   "metadata": {},
   "outputs": [],
   "source": [
    "x_10 = np.linspace(0, 2*np.pi, 10)\n",
    "y_10 = np.sin(x_10)\n",
    "\n",
    "x_100 = np.linspace(0, 2*np.pi, 100)\n",
    "y_100 = np.sin(x_100)"
   ]
  },
  {
   "cell_type": "code",
   "execution_count": null,
   "metadata": {},
   "outputs": [],
   "source": [
    "plt.plot(x_10, y_10, label=\"x=10\")\n",
    "plt.plot(x_100, y_100, label=\"x=100\")\n",
    "plt.xticks(x, labels)\n",
    "plt.legend();"
   ]
  },
  {
   "cell_type": "markdown",
   "metadata": {},
   "source": [
    "and so on, and so forth! Don't forget to follow your narrative, and by the end feel free to sneak in some (not so scary!) previews or natural extensions to your notebook pointing the learner where they might go next. And of course, thank you!"
   ]
  },
  {
   "cell_type": "markdown",
   "metadata": {},
   "source": [
    "<a href=\"#top\">Top</a>\n",
    "\n",
    "---"
   ]
  },
  {
   "cell_type": "markdown",
   "metadata": {},
   "source": [
    "## See also\n",
    "\n",
    "Finally, reserve a small space at the end for any citations/references, links to external resources (e.g. other websites, courses, activities), or suggestions for potentially 2-3 of our other notebooks that may complement or make for a logical prequel/sequel to your notebook. We will have direction for this on the website as well, but keep this in mind here at the end!\n"
   ]
  },
  {
   "cell_type": "markdown",
   "metadata": {},
   "source": [
    "<a href=\"#top\">Top</a>\n",
    "\n",
    "---"
   ]
  },
  {
   "cell_type": "markdown",
   "metadata": {},
   "source": [
    "## Final reminders for instructors\n",
    "\n",
    "* These notebooks are meant to be primarily demonstrative! Carefully narrate your notebook and make sure that your takeaway objectives are clearly presented to the learner.\n",
    "* Many of these notebooks will vary in scale and audience! Especially depending on what projects they may help complete. Keep this in mind and don't allow your notebooks to get too bloated or assume too much on their own.\n",
    "* Similarly, though your individual objectives can scale depending on your audience, try to limit yourself to 2-5 individual objective sections per notebook.\n",
    "* If you find yourself struggling to pare your notebook down in this way, ask yourself if any clear breaks are apparent to separate your notebook into multiple separate notebooks.\n",
    "* Along the way, and then one final time in review, be sure to ask yourself: **\"Who is this notebook for? What should they know already? What should they leave with?\"** and make sure you can answer these!\n",
    "\n",
    "Otherwise, to finish, please **make sure** your notebook will execute start-to-finish in a relatively quick and reliable manner with a python environment specified by `environment.yml` in the base of this repository. Once you confirm this, **Restart Kernel and Clear All Outputs** (in Jupyter lab, open the **Commands** (ctrl-shift-c or cmd-shift-c) palette to the left and search for this specifically) before **Saving** and placing your notebook in an appropriate subdirectory within the `notebooks` directory at the base of the repository and any accompanying images or other embedded materials in the `instructors/images` directory to reduce clutter for students. Then feel free to open a PR and someone from Unidata can help review your notebook before adding it to our materials. We will be sure to credit all contributors appropriately!"
   ]
  }
 ],
 "metadata": {
  "kernelspec": {
   "display_name": "Python [conda env:pyaos-ams-2021]",
   "language": "python",
   "name": "conda-env-pyaos-ams-2021-py"
  },
  "language_info": {
   "codemirror_mode": {
    "name": "ipython",
    "version": 3
   },
   "file_extension": ".py",
   "mimetype": "text/x-python",
   "name": "python",
   "nbconvert_exporter": "python",
   "pygments_lexer": "ipython3",
   "version": "3.7.9"
  }
 },
 "nbformat": 4,
 "nbformat_minor": 4
}
